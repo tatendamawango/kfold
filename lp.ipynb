{
 "cells": [
  {
   "attachments": {},
   "cell_type": "markdown",
   "metadata": {},
   "source": [
    "__Imports__"
   ]
  },
  {
   "cell_type": "code",
   "execution_count": 3,
   "metadata": {},
   "outputs": [],
   "source": [
    "import pandas as pd\n",
    "import numpy as np\n",
    "from sklearn.model_selection import train_test_split, cross_val_score\n",
    "from sklearn.neural_network import MLPRegressor\n",
    "from sklearn.metrics import mean_squared_error\n",
    "from sklearn.preprocessing import LabelEncoder\n",
    "import matplotlib.pyplot as plt"
   ]
  },
  {
   "attachments": {},
   "cell_type": "markdown",
   "metadata": {},
   "source": [
    "__Reading data__"
   ]
  },
  {
   "cell_type": "code",
   "execution_count": 14,
   "metadata": {},
   "outputs": [
    {
     "name": "stdout",
     "output_type": "stream",
     "text": [
      "Mean squared error: 248.13231435538836\n",
      "Scores: [0.92731259 0.91944105 0.84393591 0.56058309 0.93337275 0.9728968\n",
      " 0.94290817 0.98089816 0.94984901 0.92918541]\n",
      "Average score: 89.60%\n"
     ]
    }
   ],
   "source": [
    "df = pd.read_csv('CO2_emission.csv')\n",
    "\n",
    "for c in df.columns:\n",
    "    if df[c].dtype=='object': \n",
    "        df[c] = df[c].fillna('N')\n",
    "        lbl = LabelEncoder()\n",
    "        lbl.fit(list(df[c].values))\n",
    "        df[c] = lbl.transform(df[c].values)\n",
    "\n",
    "target = 'CO2_Emissions'\n",
    "\n",
    "X = df.drop(target, axis=1)\n",
    "y = df[target]\n",
    "\n",
    "X_train, X_test, y_train, y_test = train_test_split(X, y, test_size=0.2, random_state=42)\n",
    "\n",
    "model = MLPRegressor(hidden_layer_sizes=(10, ), activation='relu',learning_rate='constant', max_iter=1000, learning_rate_init=0.01)\n",
    "model.fit(X_train, y_train)\n",
    "\n",
    "y_pred = model.predict(X_test)\n",
    "mse = mean_squared_error(y_test, y_pred)\n",
    "print('Mean squared error:', mse)\n",
    "\n",
    "scores = cross_val_score(model, X, y, cv=10)\n",
    "print(f'Scores: {scores}')\n",
    "print(f'Average score: {np.mean(scores)*100:.2f}%')"
   ]
  },
  {
   "cell_type": "code",
   "execution_count": null,
   "metadata": {},
   "outputs": [],
   "source": [
    "plt.plot(df['Make'], df['CO2_Emissions'], 'r-*')\n",
    "plt.xlabel('Make')\n",
    "plt.ylabel('CO2_Emissions')\n",
    "plt.title('Make vs CO2_Emissions')\n",
    "plt.show()"
   ]
  },
  {
   "cell_type": "code",
   "execution_count": null,
   "metadata": {},
   "outputs": [],
   "source": [
    "plt.plot(y[:200], label='True values')\n",
    "plt.plot(y_pred, label='Forecasted values')\n",
    "plt.title('CO2 Emissions Forecasting')\n",
    "plt.legend()\n",
    "plt.show()"
   ]
  },
  {
   "cell_type": "code",
   "execution_count": 15,
   "metadata": {},
   "outputs": [
    {
     "name": "stdout",
     "output_type": "stream",
     "text": [
      "Mean squared error: 149.05945886629647\n",
      "Scores: [0.94308467 0.96742809 0.94815767 0.99089008 0.93609208 0.98600789\n",
      " 0.96208139 0.98143176 0.8823432  0.97472574]\n",
      "Average score: 95.72%\n"
     ]
    }
   ],
   "source": [
    "df_grouped = df.groupby('Model').mean()\n",
    "X = df_grouped.drop('CO2_Emissions', axis=1)\n",
    "y = df_grouped['CO2_Emissions']\n",
    "X_train, X_test, y_train, y_test = train_test_split(X, y, test_size=0.2, random_state=42)\n",
    "model = MLPRegressor(hidden_layer_sizes=(10, ), activation='relu',learning_rate='constant', max_iter=1000, learning_rate_init=0.01)\n",
    "model.fit(X_train, y_train)\n",
    "y_pred = model.predict(X_test)\n",
    "mse = mean_squared_error(y_test, y_pred)\n",
    "print('Mean squared error:', mse)\n",
    "scores = cross_val_score(model, X, y, cv=10)\n",
    "print(f'Scores: {scores}')\n",
    "print(f'Average score: {np.mean(scores)*100:.2f}%')"
   ]
  },
  {
   "cell_type": "code",
   "execution_count": 16,
   "metadata": {},
   "outputs": [
    {
     "name": "stdout",
     "output_type": "stream",
     "text": [
      "Mean squared error: 128.6285803062499\n",
      "Scores: [0.93883498 0.98268384 0.95441123 0.97664861 0.86211584 0.91066848\n",
      " 0.96544856 0.97073931 0.91070536 0.92652276]\n",
      "Average score: 93.99%\n"
     ]
    }
   ],
   "source": [
    "model = MLPRegressor(hidden_layer_sizes=(10, ), activation='relu',learning_rate='constant', max_iter=1000, learning_rate_init=0.1)\n",
    "model.fit(X_train, y_train)\n",
    "y_pred = model.predict(X_test)\n",
    "mse = mean_squared_error(y_test, y_pred)\n",
    "print('Mean squared error:', mse)\n",
    "scores = cross_val_score(model, X, y, cv=10)\n",
    "print(f'Scores: {scores}')\n",
    "print(f'Average score: {np.mean(scores)*100:.2f}%')"
   ]
  },
  {
   "cell_type": "code",
   "execution_count": 17,
   "metadata": {},
   "outputs": [
    {
     "name": "stdout",
     "output_type": "stream",
     "text": [
      "Mean squared error: 120.92634777909745\n",
      "Scores: [0.97363815 0.9804532  0.96640455 0.98284877 0.93277221 0.93012456\n",
      " 0.95356274 0.98702085 0.89348668 0.98133334]\n",
      "Average score: 95.82%\n"
     ]
    }
   ],
   "source": [
    "model = MLPRegressor(hidden_layer_sizes=(10, ), activation='identity',learning_rate='constant', max_iter=1000, learning_rate_init=0.1)\n",
    "model.fit(X_train, y_train)\n",
    "y_pred = model.predict(X_test)\n",
    "mse = mean_squared_error(y_test, y_pred)\n",
    "print('Mean squared error:', mse)\n",
    "scores = cross_val_score(model, X, y, cv=10)\n",
    "print(f'Scores: {scores}')\n",
    "print(f'Average score: {np.mean(scores)*100:.2f}%')"
   ]
  },
  {
   "cell_type": "code",
   "execution_count": 18,
   "metadata": {},
   "outputs": [
    {
     "name": "stdout",
     "output_type": "stream",
     "text": [
      "Mean squared error: 581.7667327695366\n",
      "Scores: [0.89917685 0.97803358 0.97379939 0.94503199 0.79527395 0.97129083\n",
      " 0.95967073 0.86467471 0.90258173 0.85496838]\n",
      "Average score: 91.45%\n"
     ]
    }
   ],
   "source": [
    "model = MLPRegressor(hidden_layer_sizes=(10, 10), activation='relu',learning_rate='constant', max_iter=1000, learning_rate_init=0.1)\n",
    "model.fit(X_train, y_train)\n",
    "\n",
    "y_pred = model.predict(X_test)\n",
    "mse = mean_squared_error(y_test, y_pred)\n",
    "print('Mean squared error:', mse)\n",
    "\n",
    "scores = cross_val_score(model, X, y, cv=10)\n",
    "print(f'Scores: {scores}')\n",
    "print(f'Average score: {np.mean(scores)*100:.2f}%')"
   ]
  },
  {
   "cell_type": "code",
   "execution_count": 31,
   "metadata": {},
   "outputs": [
    {
     "name": "stdout",
     "output_type": "stream",
     "text": [
      "K-Fold Results\n",
      "K\tScore\n",
      "5\t96.66%\n",
      "7\t88.71%\n",
      "15\t94.77%\n",
      "20\t94.85%\n"
     ]
    }
   ],
   "source": [
    "list = [5, 7, 15, 20]\n",
    "\n",
    "def k_fold(model, X, y,list):\n",
    "    scores = []\n",
    "    for i in list:\n",
    "        model = MLPRegressor(hidden_layer_sizes=(10, ), activation='relu',learning_rate='constant', max_iter=1000, learning_rate_init=0.1)\n",
    "        score = cross_val_score(model, X, y, cv=i)\n",
    "        scores.append(round(score.mean(), 4))\n",
    "    return scores\n",
    "\n",
    "results = k_fold(model, X, y, list)\n",
    "\n",
    "print('K-Fold Results')\n",
    "print('K\\tScore')\n",
    "for i in range(len(list)):\n",
    "    print(f'{list[i]}\\t{results[i]*100:.2f}%')"
   ]
  }
 ],
 "metadata": {
  "kernelspec": {
   "display_name": "Python 3",
   "language": "python",
   "name": "python3"
  },
  "language_info": {
   "codemirror_mode": {
    "name": "ipython",
    "version": 3
   },
   "file_extension": ".py",
   "mimetype": "text/x-python",
   "name": "python",
   "nbconvert_exporter": "python",
   "pygments_lexer": "ipython3",
   "version": "3.9.13"
  },
  "orig_nbformat": 4
 },
 "nbformat": 4,
 "nbformat_minor": 2
}
